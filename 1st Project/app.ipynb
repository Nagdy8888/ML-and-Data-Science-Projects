{
 "cells": [
  {
   "cell_type": "code",
   "execution_count": 1,
   "metadata": {},
   "outputs": [],
   "source": [
    "from flask import Flask, render_template, request\n",
    "import pandas as pd\n",
    "import joblib"
   ]
  },
  {
   "cell_type": "code",
   "execution_count": 2,
   "metadata": {},
   "outputs": [],
   "source": [
    "app = Flask(__name__)\n",
    "\n",
    "# Load the model\n",
    "stroke_model = joblib.load(\"model.joblib\")\n",
    "\n",
    "# Helper function for prediction\n",
    "def predict_input(single_input):\n",
    "    input_df = pd.DataFrame([single_input])\n",
    "    encoded_cols, numeric_cols = stroke_model[\"encoded_cols\"], stroke_model[\"numeric_cols\"]\n",
    "    preprocessor = stroke_model[\"preprocessor\"]\n",
    "    input_df[encoded_cols] = preprocessor.transform(input_df)\n",
    "    X = input_df[numeric_cols + encoded_cols]\n",
    "    prediction = stroke_model['model'].predict(X)\n",
    "    return prediction\n",
    "\n",
    "\n"
   ]
  },
  {
   "cell_type": "code",
   "execution_count": 3,
   "metadata": {},
   "outputs": [
    {
     "name": "stdout",
     "output_type": "stream",
     "text": [
      " * Serving Flask app '__main__'\n",
      " * Debug mode: on\n"
     ]
    },
    {
     "name": "stderr",
     "output_type": "stream",
     "text": [
      "WARNING: This is a development server. Do not use it in a production deployment. Use a production WSGI server instead.\n",
      " * Running on http://127.0.0.1:5000\n",
      "Press CTRL+C to quit\n",
      " * Restarting with stat\n"
     ]
    },
    {
     "ename": "SystemExit",
     "evalue": "1",
     "output_type": "error",
     "traceback": [
      "An exception has occurred, use %tb to see the full traceback.\n",
      "\u001b[1;31mSystemExit\u001b[0m\u001b[1;31m:\u001b[0m 1\n"
     ]
    },
    {
     "name": "stderr",
     "output_type": "stream",
     "text": [
      "c:\\Users\\Nagdy\\AppData\\Local\\Programs\\Python\\Python312\\Lib\\site-packages\\IPython\\core\\interactiveshell.py:3556: UserWarning: To exit: use 'exit', 'quit', or Ctrl-D.\n",
      "  warn(\"To exit: use 'exit', 'quit', or Ctrl-D.\", stacklevel=1)\n"
     ]
    }
   ],
   "source": [
    "if \"index\" not in [rule.endpoint for rule in app.url_map.iter_rules()]:\n",
    "    @app.route(\"/\", methods=[\"GET\", \"POST\"])\n",
    "    def index():\n",
    "        if request.method == \"POST\":\n",
    "            # Get form data\n",
    "            gender = request.form[\"gender\"].lower()\n",
    "            age = int(request.form[\"age\"])\n",
    "            hypertension = int(request.form[\"hypertension\"])\n",
    "            heart_disease = int(request.form[\"heart_disease\"])\n",
    "            ever_married = request.form[\"ever_married\"].lower()\n",
    "            work_type = request.form[\"work_type\"]\n",
    "            residence_type = request.form[\"residence_type\"]\n",
    "            avg_glucose_level = float(request.form[\"avg_glucose_level\"])\n",
    "            bmi = float(request.form[\"bmi\"])\n",
    "            smoking_status = request.form[\"smoking_status\"].lower()\n",
    "\n",
    "            # Map work type\n",
    "            work_type_mapping = {\n",
    "                \"Government job\": \"Govt_job\",\n",
    "                \"Children\": \"children\",\n",
    "                \"Never Worked\": \"Never_worked\",\n",
    "                \"Private\": \"Private\",\n",
    "            }\n",
    "\n",
    "            single_input = {\n",
    "                \"gender\": gender,\n",
    "                \"age\": age,\n",
    "                \"hypertension\": hypertension,\n",
    "                \"heart_disease\": heart_disease,\n",
    "                \"ever_married\": ever_married,\n",
    "                \"work_type\": work_type_mapping.get(work_type, work_type),\n",
    "                \"Residence_type\": residence_type,\n",
    "                \"avg_glucose_level\": avg_glucose_level,\n",
    "                \"bmi\": bmi,\n",
    "                \"smoking_status\": smoking_status,\n",
    "            }\n",
    "\n",
    "            # Predict and redirect to result page\n",
    "            prediction = predict_input(single_input)\n",
    "            result = \"Likely\" if prediction[0] == 1 else \"Not Likely\"\n",
    "            return render_template(\"result.html\", result=result)\n",
    "\n",
    "        return render_template(\"index.html\")\n",
    "\n",
    "\n",
    "if __name__ == \"__main__\":\n",
    "    app.run(debug=True)\n"
   ]
  }
 ],
 "metadata": {
  "kernelspec": {
   "display_name": "Python 3",
   "language": "python",
   "name": "python3"
  },
  "language_info": {
   "codemirror_mode": {
    "name": "ipython",
    "version": 3
   },
   "file_extension": ".py",
   "mimetype": "text/x-python",
   "name": "python",
   "nbconvert_exporter": "python",
   "pygments_lexer": "ipython3",
   "version": "3.12.0"
  }
 },
 "nbformat": 4,
 "nbformat_minor": 2
}
